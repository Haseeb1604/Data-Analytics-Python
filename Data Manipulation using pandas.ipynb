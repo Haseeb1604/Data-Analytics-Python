{
 "cells": [
  {
   "cell_type": "code",
   "execution_count": 3,
   "id": "035ec536",
   "metadata": {},
   "outputs": [],
   "source": [
    "import pickle\n",
    "import pandas as pd"
   ]
  },
  {
   "cell_type": "code",
   "execution_count": 5,
   "id": "28adce2b",
   "metadata": {},
   "outputs": [
    {
     "data": {
      "text/html": [
       "<div>\n",
       "<style scoped>\n",
       "    .dataframe tbody tr th:only-of-type {\n",
       "        vertical-align: middle;\n",
       "    }\n",
       "\n",
       "    .dataframe tbody tr th {\n",
       "        vertical-align: top;\n",
       "    }\n",
       "\n",
       "    .dataframe thead th {\n",
       "        text-align: right;\n",
       "    }\n",
       "</style>\n",
       "<table border=\"1\" class=\"dataframe\">\n",
       "  <thead>\n",
       "    <tr style=\"text-align: right;\">\n",
       "      <th></th>\n",
       "      <th>date</th>\n",
       "      <th>type</th>\n",
       "      <th>year</th>\n",
       "      <th>avg_price</th>\n",
       "      <th>size</th>\n",
       "      <th>nb_sold</th>\n",
       "    </tr>\n",
       "  </thead>\n",
       "  <tbody>\n",
       "    <tr>\n",
       "      <th>0</th>\n",
       "      <td>2015-12-27</td>\n",
       "      <td>conventional</td>\n",
       "      <td>2015</td>\n",
       "      <td>0.95</td>\n",
       "      <td>small</td>\n",
       "      <td>9626901.09</td>\n",
       "    </tr>\n",
       "    <tr>\n",
       "      <th>1</th>\n",
       "      <td>2015-12-20</td>\n",
       "      <td>conventional</td>\n",
       "      <td>2015</td>\n",
       "      <td>0.98</td>\n",
       "      <td>small</td>\n",
       "      <td>8710021.76</td>\n",
       "    </tr>\n",
       "    <tr>\n",
       "      <th>2</th>\n",
       "      <td>2015-12-13</td>\n",
       "      <td>conventional</td>\n",
       "      <td>2015</td>\n",
       "      <td>0.93</td>\n",
       "      <td>small</td>\n",
       "      <td>9855053.66</td>\n",
       "    </tr>\n",
       "    <tr>\n",
       "      <th>3</th>\n",
       "      <td>2015-12-06</td>\n",
       "      <td>conventional</td>\n",
       "      <td>2015</td>\n",
       "      <td>0.89</td>\n",
       "      <td>small</td>\n",
       "      <td>9405464.36</td>\n",
       "    </tr>\n",
       "    <tr>\n",
       "      <th>4</th>\n",
       "      <td>2015-11-29</td>\n",
       "      <td>conventional</td>\n",
       "      <td>2015</td>\n",
       "      <td>0.99</td>\n",
       "      <td>small</td>\n",
       "      <td>8094803.56</td>\n",
       "    </tr>\n",
       "  </tbody>\n",
       "</table>\n",
       "</div>"
      ],
      "text/plain": [
       "         date          type  year  avg_price   size     nb_sold\n",
       "0  2015-12-27  conventional  2015       0.95  small  9626901.09\n",
       "1  2015-12-20  conventional  2015       0.98  small  8710021.76\n",
       "2  2015-12-13  conventional  2015       0.93  small  9855053.66\n",
       "3  2015-12-06  conventional  2015       0.89  small  9405464.36\n",
       "4  2015-11-29  conventional  2015       0.99  small  8094803.56"
      ]
     },
     "execution_count": 5,
     "metadata": {},
     "output_type": "execute_result"
    }
   ],
   "source": [
    "# Specify the path to the .pkl file\n",
    "file_path = \"avoplotto.pkl\"\n",
    "\n",
    "# Load the .pkl file\n",
    "with open(file_path, \"rb\") as file:\n",
    "    data = pickle.load(file)\n",
    "    \n",
    "df = pd.DataFrame(data)\n",
    "\n",
    "df.head()"
   ]
  },
  {
   "cell_type": "markdown",
   "id": "18fc096a",
   "metadata": {},
   "source": [
    "# Slicing and Indexing DataFrames"
   ]
  },
  {
   "cell_type": "markdown",
   "id": "d7565f90",
   "metadata": {},
   "source": [
    "### 1. Explicit indexes"
   ]
  },
  {
   "cell_type": "code",
   "execution_count": null,
   "id": "06eeaa6f",
   "metadata": {},
   "outputs": [],
   "source": []
  }
 ],
 "metadata": {
  "kernelspec": {
   "display_name": "Python 3 (ipykernel)",
   "language": "python",
   "name": "python3"
  },
  "language_info": {
   "codemirror_mode": {
    "name": "ipython",
    "version": 3
   },
   "file_extension": ".py",
   "mimetype": "text/x-python",
   "name": "python",
   "nbconvert_exporter": "python",
   "pygments_lexer": "ipython3",
   "version": "3.9.12"
  }
 },
 "nbformat": 4,
 "nbformat_minor": 5
}
